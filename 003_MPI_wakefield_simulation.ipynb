{
 "cells": [
  {
   "cell_type": "markdown",
   "metadata": {},
   "source": [
    "### Setting up a IPyKernel with several cores"
   ]
  },
  {
   "cell_type": "code",
   "execution_count": null,
   "metadata": {},
   "outputs": [],
   "source": [
    "import ipyparallel as ipp\n",
    "cluster = ipp.Cluster(engines=\"mpi\", n=4).start_and_connect_sync()"
   ]
  },
  {
   "cell_type": "code",
   "execution_count": null,
   "metadata": {},
   "outputs": [],
   "source": [
    "%%px\n",
    "from mpi4py import MPI\n",
    "comm = MPI.COMM_WORLD\n",
    "rank = comm.Get_rank()\n",
    "size = comm.Get_size()\n",
    "print(f\"Process {rank} of {size} is running\")"
   ]
  },
  {
   "cell_type": "markdown",
   "metadata": {},
   "source": [
    "# Running an MPI wakefield simulation\n",
    "\n",
    "Everything is exactly as example #003, with 2 main additions:\n",
    "* To use the MPI kernel, the cell needs to start with `%%px`\n",
    "* We need to set the flag `use_mpi=True` for the Grid and the Solver"
   ]
  },
  {
   "cell_type": "code",
   "execution_count": null,
   "metadata": {},
   "outputs": [],
   "source": [
    "%%px\n",
    "import sys\n",
    "import numpy as np\n",
    "import pyvista as pv\n",
    "import matplotlib.pyplot as plt\n",
    "from tqdm import tqdm\n",
    "\n",
    "from wakis import SolverFIT3D\n",
    "from wakis import GridFIT3D \n",
    "from wakis import WakeSolver"
   ]
  },
  {
   "cell_type": "markdown",
   "metadata": {},
   "source": [
    "Read and plot the geometry files:"
   ]
  },
  {
   "cell_type": "code",
   "execution_count": null,
   "metadata": {},
   "outputs": [],
   "source": [
    "%%px\n",
    "# Embedded boundaries\n",
    "stl_cavity = 'data/cavity_vacuum.stl' \n",
    "stl_shell = 'data/cavity_shell.stl'\n",
    "stl_letters = 'data/letters.stl'\n",
    "\n",
    "geometry = pv.read(stl_cavity) + pv.read(stl_shell) + pv.read(stl_letters)"
   ]
  },
  {
   "cell_type": "markdown",
   "metadata": {},
   "source": [
    "Generate the simulation grid and inspect it:"
   ]
  },
  {
   "cell_type": "code",
   "execution_count": null,
   "metadata": {},
   "outputs": [],
   "source": [
    "%%px\n",
    "# ---------- Domain setup ---------\n",
    "# Number of mesh cells\n",
    "Nx = 100\n",
    "Ny = 100\n",
    "Nz = 161\n",
    "print(f\"Total number of cells: {Nx*Ny*Nz}\")\n",
    "\n",
    "stl_solids = {'cavity': stl_cavity, \n",
    "              'shell': stl_shell,\n",
    "              'letters' : stl_letters}\n",
    "\n",
    "stl_materials = {'cavity': 'vacuum', \n",
    "                 'shell': [30, 1.0, 30],  # lossy metal [eps_r, mu_r, sigma] \n",
    "                 'letters' :  [10, 1.0],  # dielectric [eps_r, mu_r] \n",
    "                }\n",
    "\n",
    "xmin, xmax, ymin, ymax, zmin, zmax = geometry.bounds\n",
    "# set grid and geometry\n",
    "grid = GridFIT3D(xmin, xmax, ymin, ymax, zmin, zmax, Nx, Ny, Nz, \n",
    "                use_mpi=True,\n",
    "                stl_solids=stl_solids, \n",
    "                stl_materials=stl_materials,\n",
    "                )\n",
    "\n",
    "print(f\"Process {rank}: Handling Z range {grid.zmin} to {grid.zmax} with {grid.Nz} cells\")\n",
    "print(f\"Global domain goes from {grid.ZMIN} to {grid.ZMAX} with {grid.NZ} cells\")"
   ]
  },
  {
   "cell_type": "markdown",
   "metadata": {},
   "source": [
    "Define the wake and beam parameters:"
   ]
  },
  {
   "cell_type": "code",
   "execution_count": null,
   "metadata": {},
   "outputs": [],
   "source": [
    "%%px\n",
    "# ------------ Beam source ----------------\n",
    "# Beam parameters\n",
    "sigmaz = 10e-2      #[m] -> 2 GHz\n",
    "q = 1e-9            #[C]\n",
    "beta = 1.0          # beam beta \n",
    "xs = 0.             # x source position [m]\n",
    "ys = 0.             # y source position [m]\n",
    "xt = 0.             # x test position [m]\n",
    "yt = 0.             # y test position [m]\n",
    "# [DEFAULT] tinj = 8.53*sigmaz/c_light  # injection time offset [s] \n",
    "\n",
    "# Simualtion\n",
    "wakelength = 30. #[m]\n",
    "skip_cells = 10   # no. cells\n",
    "results_folder = f'003_results_wl{int(wakelength)}/'\n",
    "wake = WakeSolver(q=q, \n",
    "                  sigmaz=sigmaz, \n",
    "                  beta=beta,\n",
    "                  xsource=xs, ysource=ys, \n",
    "                  xtest=xt, ytest=yt,\n",
    "                  skip_cells=skip_cells, \n",
    "                  results_folder=results_folder,\n",
    "                  Ez_file=results_folder+'Ez.h5')"
   ]
  },
  {
   "cell_type": "markdown",
   "metadata": {},
   "source": [
    "Define the solver's boundary conditions, background"
   ]
  },
  {
   "cell_type": "code",
   "execution_count": null,
   "metadata": {},
   "outputs": [],
   "source": [
    "%%px\n",
    "# ----------- Solver & Simulation ----------\n",
    "# boundary conditions``\n",
    "bc_low=['pec', 'pec', 'pec']\n",
    "bc_high=['pec', 'pec', 'pec']\n",
    "\n",
    "solver = SolverFIT3D(grid, wake,\n",
    "                     bc_low=bc_low, bc_high=bc_high, \n",
    "                     bg='pec',      # backgorund material\n",
    "                     use_stl=True,  # import geometry\n",
    "                     use_mpi=True,\n",
    "                     #use_gpu=False\n",
    "                     )"
   ]
  },
  {
   "cell_type": "markdown",
   "metadata": {},
   "source": [
    "Inspect the resulting material tensors, for example the permittivity $\\varepsilon ^{-1}$"
   ]
  },
  {
   "cell_type": "code",
   "execution_count": null,
   "metadata": {},
   "outputs": [],
   "source": [
    "%%px\n",
    "for n in range(size):\n",
    "    if rank==n:\n",
    "        solver.ieps.inspect(plane='XZ')"
   ]
  },
  {
   "cell_type": "markdown",
   "metadata": {},
   "source": [
    "Prepare 2D plot settings for on-the-fly plots"
   ]
  },
  {
   "cell_type": "code",
   "execution_count": null,
   "metadata": {},
   "outputs": [],
   "source": [
    "%%px\n",
    "# Plot settings\n",
    "n=0\n",
    "from matplotlib.colors import LinearSegmentedColormap\n",
    "cmap = LinearSegmentedColormap.from_list('name', plt.cm.jet(np.linspace(0.05, 0.9))) # CST's colormap\n",
    "\n",
    "plotkw2D = {'title':'img/E_z', \n",
    "            'add_patch':['cavity'], 'patch_alpha':0.9,\n",
    "            'patch_reverse' : True, \n",
    "            'vmin':0, 'vmax':700,\n",
    "            'interpolation' : 'gaussian',\n",
    "            'cmap' : cmap,\n",
    "            'plane': [slice(0, Nx), int(Ny/2), slice(0, Nz)]}"
   ]
  },
  {
   "cell_type": "markdown",
   "metadata": {},
   "source": [
    "Run the wakefield simulation with dedicated routine `wakesolve`"
   ]
  },
  {
   "cell_type": "code",
   "execution_count": null,
   "metadata": {},
   "outputs": [],
   "source": [
    "%%px\n",
    "# Wakefield Solver run\n",
    "solver.wakesolve(wakelength=wakelength, \n",
    "                 plot=True, # turn False for speedup\n",
    "                 plot_every=30, plot_until=3000, **plotkw2D\n",
    "                 )"
   ]
  },
  {
   "cell_type": "markdown",
   "metadata": {},
   "source": [
    "Let's plot our simulated wake and impedance:\n",
    "* When using MPI, the results are only saved in `rank == 0`"
   ]
  },
  {
   "cell_type": "code",
   "execution_count": null,
   "metadata": {},
   "outputs": [],
   "source": [
    "%%px\n",
    "if rank == 0:\n",
    "    # Plot longitudinal wake potential and impedance\n",
    "    fig1, ax = plt.subplots(1,2, figsize=[12,4], dpi=150)\n",
    "    ax[0].plot(wake.s*1e2, wake.WP, c='tab:red', lw=1.5, label='Wakis')\n",
    "    ax[0].set_xlabel('s [cm]')\n",
    "    ax[0].set_ylabel('Longitudinal wake potential [V/pC]', color='tab:red')\n",
    "    ax[0].legend()\n",
    "    ax[0].set_xlim(xmax=wakelength*1e2)\n",
    "\n",
    "    ax[1].plot(wake.f*1e-9, np.abs(wake.Z), c='tab:blue', alpha=0.8, lw=2, label='Abs')\n",
    "    ax[1].plot(wake.f*1e-9, np.real(wake.Z), ls='--', c='tab:blue', lw=1.5, label='Real')\n",
    "    ax[1].plot(wake.f*1e-9, np.imag(wake.Z), ls=':', c='tab:blue', lw=1.5, label='Imag')\n",
    "    ax[1].set_xlabel('f [GHz]')\n",
    "    ax[1].set_ylabel('Longitudinal impedance [Abs][$\\Omega$]', color='tab:blue')\n",
    "    ax[1].legend()\n",
    "\n",
    "    fig1.tight_layout()\n",
    "    fig1.savefig(results_folder+'longitudinal.png')\n",
    "    #plt.show()\n"
   ]
  },
  {
   "cell_type": "code",
   "execution_count": null,
   "metadata": {},
   "outputs": [],
   "source": [
    "%%px\n",
    "if rank == 0:\n",
    "    # Plot transverse x wake potential and impedance\n",
    "    fig2, ax = plt.subplots(1,2, figsize=[12,4], dpi=150)\n",
    "    ax[0].plot(wake.s*1e2, wake.WPx, c='tab:orange', lw=1.5, label='Wakis')\n",
    "    ax[0].set_xlabel('s [cm]')\n",
    "    ax[0].set_ylabel('Transverse wake potential X [V/pC]', color='tab:orange')\n",
    "    ax[0].legend()\n",
    "    ax[0].set_xlim(xmax=wakelength*1e2)\n",
    "\n",
    "    ax[1].plot(wake.f*1e-9, np.abs(wake.Zx), c='tab:green', lw=2, label='Abs')\n",
    "    ax[1].plot(wake.f*1e-9, np.real(wake.Zx), c='tab:green', ls='--', lw=1.5, label='Real')\n",
    "    ax[1].plot(wake.f*1e-9, np.imag(wake.Zx), c='tab:green', ls=':', lw=1.5, label='Imag')\n",
    "    ax[1].set_xlabel('f [GHz]')\n",
    "    ax[1].set_ylabel('Transverse impedance X [Abs][$\\Omega$]', color='tab:green')\n",
    "    ax[1].legend()\n",
    "\n",
    "    fig2.tight_layout()\n",
    "    fig2.savefig(results_folder+'001_transverse_x.png')\n",
    "    #plt.show()`"
   ]
  },
  {
   "cell_type": "code",
   "execution_count": null,
   "metadata": {},
   "outputs": [],
   "source": [
    "%%px\n",
    "if rank == 0:\n",
    "    # Plot transverse y wake potential and impedance\n",
    "    fig3, ax = plt.subplots(1,2, figsize=[12,4], dpi=150)\n",
    "    ax[0].plot(wake.s*1e2, wake.WPy, c='tab:brown', lw=1.5, label='Wakis')\n",
    "    ax[0].set_xlabel('s [cm]')\n",
    "    ax[0].set_ylabel('Transverse wake potential Y [V/pC]', color='tab:brown')\n",
    "    ax[0].legend()\n",
    "    ax[0].set_xlim(xmax=wakelength*1e2)\n",
    "\n",
    "    ax[1].plot(wake.f*1e-9, np.abs(wake.Zy), c='tab:pink', lw=2, label='Abs')\n",
    "    ax[1].plot(wake.f*1e-9, np.real(wake.Zy), c='tab:pink', ls='--', lw=1.5, label='Real')\n",
    "    ax[1].plot(wake.f*1e-9, np.imag(wake.Zy), c='tab:pink', ls=':', lw=1.5, label='Imag')\n",
    "    ax[1].set_xlabel('f [GHz]')\n",
    "    ax[1].set_ylabel('Transverse impedance Y [Abs][$\\Omega$]', color='tab:pink')\n",
    "    ax[1].legend()\n",
    "\n",
    "    fig3.tight_layout()\n",
    "    fig3.savefig(results_folder+'transverse_y.png')\n",
    "    #plt.show()"
   ]
  },
  {
   "cell_type": "markdown",
   "metadata": {},
   "source": [
    "### Plotting the fields\n",
    "The built-in plotting routines `plot2D` and `plot1D` do not need the rank==0 if statement since it is handled inside"
   ]
  },
  {
   "cell_type": "code",
   "execution_count": null,
   "metadata": {},
   "outputs": [],
   "source": [
    "%%px\n",
    "# %matplotlib ipympl\n",
    "# Plot Electric field component in 2D using imshow\n",
    "solver.plot1D(field='E', component='z', \n",
    "              line='z', pos=[0.1, 0.2, 0.35, 0.5, 0.6], \n",
    "              xscale='linear', yscale='linear',\n",
    "              off_screen=False, title=results_folder+'Ez1d')"
   ]
  },
  {
   "cell_type": "code",
   "execution_count": null,
   "metadata": {},
   "outputs": [],
   "source": [
    "%%px\n",
    "# ----------- 2d plots results --------------------\n",
    "from matplotlib.colors import LinearSegmentedColormap\n",
    "cmap = LinearSegmentedColormap.from_list('name', plt.cm.Blues_r(np.linspace(0.1, 0.9))) # CST's colormap\n",
    "\n",
    "# Plot Electric field component in 2D using imshow\n",
    "solver.plot2D(field='E', component='z', \n",
    "              plane='ZX', pos=0.5, \n",
    "              cmap=cmap, vmin=-100, vmax=100., interpolation='hanning',\n",
    "              add_patch='cavity', patch_reverse=True, patch_alpha=0.8, \n",
    "              off_screen=False)"
   ]
  }
 ],
 "metadata": {
  "kernelspec": {
   "display_name": "wakis-mpi",
   "language": "python",
   "name": "python3"
  },
  "language_info": {
   "codemirror_mode": {
    "name": "ipython",
    "version": 3
   },
   "file_extension": ".py",
   "mimetype": "text/x-python",
   "name": "python",
   "nbconvert_exporter": "python",
   "pygments_lexer": "ipython3",
   "version": "3.11.11"
  }
 },
 "nbformat": 4,
 "nbformat_minor": 2
}
